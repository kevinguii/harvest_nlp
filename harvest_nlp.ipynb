{
 "cells": [
  {
   "cell_type": "code",
   "execution_count": 26,
   "metadata": {},
   "outputs": [],
   "source": [
    "from PyPDF2 import PdfReader\n",
    "import os\n",
    "import pandas as pd\n",
    "import glob\n",
    "\n",
    "from nltk.corpus import stopwords\n",
    "from nltk.stem import WordNetLemmatizer  \n",
    "import re\n",
    "\n",
    "from sklearn.ensemble import RandomForestClassifier\n",
    "from sklearn.linear_model import LogisticRegression\n",
    "from sklearn.metrics import confusion_matrix,classification_report"
   ]
  },
  {
   "cell_type": "code",
   "execution_count": 27,
   "metadata": {},
   "outputs": [],
   "source": [
    "def get_pdfs_in_directory(directory_path):\n",
    "    # Use glob to get all PDF files in the directory\n",
    "    pdf_files = glob.glob(os.path.join(directory_path, '*.pdf'))\n",
    "    return pdf_files\n",
    "pdf_not_relevant = get_pdfs_in_directory('test_data/not_relevant')\n",
    "pdf_relevant = get_pdfs_in_directory('test_data/relevant')"
   ]
  },
  {
   "cell_type": "code",
   "execution_count": 28,
   "metadata": {},
   "outputs": [],
   "source": [
    "def text_extract(reader):\n",
    "    doc_text = \"\"\n",
    "    num_pages = len(reader.pages)\n",
    "    for i in range(num_pages):\n",
    "        page_text = reader.pages[i].extract_text() + \" \"\n",
    "        doc_text += page_text\n",
    "    return doc_text\n",
    "\n",
    "def get_info(path,relevant):\n",
    "    with open(path, 'rb') as f:\n",
    "        pdf = PdfReader(f)\n",
    "        info = pdf.metadata\n",
    "        author = info.author if '/Author' in info else None\n",
    "        title = info.title if '/Title' in info else None\n",
    "        subject = info.subject if '/Subject' in info else None\n",
    "        keywords = info['/Keywords'] if '/Keywords' in info else None\n",
    "        number_of_pages = len(pdf.pages)\n",
    "        text = text_extract(pdf)\n",
    "        relevance = 1 if relevant else 0\n",
    "    return [author, title, subject, keywords, number_of_pages, text, relevance]"
   ]
  },
  {
   "cell_type": "code",
   "execution_count": 29,
   "metadata": {},
   "outputs": [],
   "source": [
    "all_info = []\n",
    "for pdf in pdf_not_relevant:\n",
    "\tall_info.append(get_info(pdf,relevant = False))\n",
    "for pdf in pdf_relevant:\n",
    "\tall_info.append(get_info(pdf,relevant = True))\n",
    "harvest_nlp = pd.DataFrame(all_info,columns = ['author','title','subject','keywords','num_pages','text','is_relevant'])"
   ]
  },
  {
   "cell_type": "code",
   "execution_count": 30,
   "metadata": {},
   "outputs": [
    {
     "data": {
      "text/html": [
       "<div>\n",
       "<style scoped>\n",
       "    .dataframe tbody tr th:only-of-type {\n",
       "        vertical-align: middle;\n",
       "    }\n",
       "\n",
       "    .dataframe tbody tr th {\n",
       "        vertical-align: top;\n",
       "    }\n",
       "\n",
       "    .dataframe thead th {\n",
       "        text-align: right;\n",
       "    }\n",
       "</style>\n",
       "<table border=\"1\" class=\"dataframe\">\n",
       "  <thead>\n",
       "    <tr style=\"text-align: right;\">\n",
       "      <th></th>\n",
       "      <th>author</th>\n",
       "      <th>title</th>\n",
       "      <th>subject</th>\n",
       "      <th>keywords</th>\n",
       "      <th>num_pages</th>\n",
       "      <th>text</th>\n",
       "      <th>is_relevant</th>\n",
       "    </tr>\n",
       "  </thead>\n",
       "  <tbody>\n",
       "    <tr>\n",
       "      <th>0</th>\n",
       "      <td>ECDC</td>\n",
       "      <td>Effectiveness and cost-effectiveness of antena...</td>\n",
       "      <td>None</td>\n",
       "      <td>None</td>\n",
       "      <td>37</td>\n",
       "      <td>TECHNICAL  REPORT\\nEffectiveness and cost-  \\n...</td>\n",
       "      <td>0</td>\n",
       "    </tr>\n",
       "    <tr>\n",
       "      <th>1</th>\n",
       "      <td>None</td>\n",
       "      <td>None</td>\n",
       "      <td>None</td>\n",
       "      <td>None</td>\n",
       "      <td>45</td>\n",
       "      <td>SPECIAL REPORT\\nImplementing the  \\nDublin Dec...</td>\n",
       "      <td>0</td>\n",
       "    </tr>\n",
       "    <tr>\n",
       "      <th>2</th>\n",
       "      <td>None</td>\n",
       "      <td>None</td>\n",
       "      <td>None</td>\n",
       "      <td>None</td>\n",
       "      <td>15</td>\n",
       "      <td>SPECIAL REPORT\\nThematic report:  \\nSex worker...</td>\n",
       "      <td>0</td>\n",
       "    </tr>\n",
       "    <tr>\n",
       "      <th>3</th>\n",
       "      <td>None</td>\n",
       "      <td>None</td>\n",
       "      <td>None</td>\n",
       "      <td>None</td>\n",
       "      <td>36</td>\n",
       "      <td>TECHNICAL  REPORT\\nRisk assessment on HIV in G...</td>\n",
       "      <td>0</td>\n",
       "    </tr>\n",
       "    <tr>\n",
       "      <th>4</th>\n",
       "      <td>ECDC</td>\n",
       "      <td>Chlamydia - Annual epidemiological report</td>\n",
       "      <td>Chlamydia, surveillance, monitoring</td>\n",
       "      <td>Chlamydia, surveillance, monitoring</td>\n",
       "      <td>9</td>\n",
       "      <td>\\nSuggested citation: European Centre for Dis...</td>\n",
       "      <td>0</td>\n",
       "    </tr>\n",
       "  </tbody>\n",
       "</table>\n",
       "</div>"
      ],
      "text/plain": [
       "  author                                              title  \\\n",
       "0   ECDC  Effectiveness and cost-effectiveness of antena...   \n",
       "1   None                                               None   \n",
       "2   None                                               None   \n",
       "3   None                                               None   \n",
       "4   ECDC         Chlamydia - Annual epidemiological report    \n",
       "\n",
       "                                subject                             keywords  \\\n",
       "0                                  None                                 None   \n",
       "1                                  None                                 None   \n",
       "2                                  None                                 None   \n",
       "3                                  None                                 None   \n",
       "4  Chlamydia, surveillance, monitoring   Chlamydia, surveillance, monitoring   \n",
       "\n",
       "   num_pages                                               text  is_relevant  \n",
       "0         37  TECHNICAL  REPORT\\nEffectiveness and cost-  \\n...            0  \n",
       "1         45  SPECIAL REPORT\\nImplementing the  \\nDublin Dec...            0  \n",
       "2         15  SPECIAL REPORT\\nThematic report:  \\nSex worker...            0  \n",
       "3         36  TECHNICAL  REPORT\\nRisk assessment on HIV in G...            0  \n",
       "4          9   \\nSuggested citation: European Centre for Dis...            0  "
      ]
     },
     "execution_count": 30,
     "metadata": {},
     "output_type": "execute_result"
    }
   ],
   "source": [
    "harvest_nlp.head()"
   ]
  },
  {
   "cell_type": "markdown",
   "metadata": {},
   "source": [
    "## Remove/Replace Nulls"
   ]
  },
  {
   "cell_type": "code",
   "execution_count": 31,
   "metadata": {},
   "outputs": [
    {
     "data": {
      "text/plain": [
       "author         43\n",
       "title          48\n",
       "subject        56\n",
       "keywords       50\n",
       "num_pages       0\n",
       "text            0\n",
       "is_relevant     0\n",
       "dtype: int64"
      ]
     },
     "execution_count": 31,
     "metadata": {},
     "output_type": "execute_result"
    }
   ],
   "source": [
    "harvest_nlp.isna().sum()"
   ]
  },
  {
   "cell_type": "code",
   "execution_count": 32,
   "metadata": {},
   "outputs": [
    {
     "data": {
      "text/plain": [
       "72"
      ]
     },
     "execution_count": 32,
     "metadata": {},
     "output_type": "execute_result"
    }
   ],
   "source": [
    "len(harvest_nlp)"
   ]
  },
  {
   "cell_type": "code",
   "execution_count": 33,
   "metadata": {},
   "outputs": [
    {
     "data": {
      "text/plain": [
       "Index(['author', 'title', 'subject', 'keywords', 'num_pages', 'text',\n",
       "       'is_relevant'],\n",
       "      dtype='object')"
      ]
     },
     "execution_count": 33,
     "metadata": {},
     "output_type": "execute_result"
    }
   ],
   "source": [
    "harvest_nlp.columns"
   ]
  },
  {
   "cell_type": "code",
   "execution_count": 34,
   "metadata": {},
   "outputs": [],
   "source": [
    "#replace empty strings with Unknown\n",
    "harvest_nlp.replace('','Unknown',inplace=True)\n",
    "harvest_nlp.replace(' ','Unknown',inplace=True)\n",
    "\n",
    "#fill na values, drop ones that aren't necessary (only dropped one since there isn't too much data)\n",
    "harvest_nlp.fillna({'author': 'Unknown',\n",
    "\t\t\t\t\t\t'title': 'Unknown',\n",
    "\t\t\t\t\t\t'subject': 'Unknown',\n",
    "\t\t\t\t\t\t'keywords': 'Unknown',\n",
    "\t\t\t\t\t\t},inplace=True)"
   ]
  },
  {
   "cell_type": "code",
   "execution_count": 35,
   "metadata": {},
   "outputs": [
    {
     "data": {
      "text/plain": [
       "author         0\n",
       "title          0\n",
       "subject        0\n",
       "keywords       0\n",
       "num_pages      0\n",
       "text           0\n",
       "is_relevant    0\n",
       "dtype: int64"
      ]
     },
     "execution_count": 35,
     "metadata": {},
     "output_type": "execute_result"
    }
   ],
   "source": [
    "harvest_nlp.isna().sum()"
   ]
  },
  {
   "cell_type": "code",
   "execution_count": 36,
   "metadata": {},
   "outputs": [
    {
     "data": {
      "text/html": [
       "<div>\n",
       "<style scoped>\n",
       "    .dataframe tbody tr th:only-of-type {\n",
       "        vertical-align: middle;\n",
       "    }\n",
       "\n",
       "    .dataframe tbody tr th {\n",
       "        vertical-align: top;\n",
       "    }\n",
       "\n",
       "    .dataframe thead th {\n",
       "        text-align: right;\n",
       "    }\n",
       "</style>\n",
       "<table border=\"1\" class=\"dataframe\">\n",
       "  <thead>\n",
       "    <tr style=\"text-align: right;\">\n",
       "      <th></th>\n",
       "      <th>author</th>\n",
       "      <th>title</th>\n",
       "      <th>subject</th>\n",
       "      <th>keywords</th>\n",
       "      <th>num_pages</th>\n",
       "      <th>text</th>\n",
       "      <th>is_relevant</th>\n",
       "    </tr>\n",
       "  </thead>\n",
       "  <tbody>\n",
       "    <tr>\n",
       "      <th>0</th>\n",
       "      <td>ECDC</td>\n",
       "      <td>Effectiveness and cost-effectiveness of antena...</td>\n",
       "      <td>Unknown</td>\n",
       "      <td>Unknown</td>\n",
       "      <td>37</td>\n",
       "      <td>TECHNICAL  REPORT\\nEffectiveness and cost-  \\n...</td>\n",
       "      <td>0</td>\n",
       "    </tr>\n",
       "    <tr>\n",
       "      <th>1</th>\n",
       "      <td>Unknown</td>\n",
       "      <td>Unknown</td>\n",
       "      <td>Unknown</td>\n",
       "      <td>Unknown</td>\n",
       "      <td>45</td>\n",
       "      <td>SPECIAL REPORT\\nImplementing the  \\nDublin Dec...</td>\n",
       "      <td>0</td>\n",
       "    </tr>\n",
       "    <tr>\n",
       "      <th>2</th>\n",
       "      <td>Unknown</td>\n",
       "      <td>Unknown</td>\n",
       "      <td>Unknown</td>\n",
       "      <td>Unknown</td>\n",
       "      <td>15</td>\n",
       "      <td>SPECIAL REPORT\\nThematic report:  \\nSex worker...</td>\n",
       "      <td>0</td>\n",
       "    </tr>\n",
       "    <tr>\n",
       "      <th>3</th>\n",
       "      <td>Unknown</td>\n",
       "      <td>Unknown</td>\n",
       "      <td>Unknown</td>\n",
       "      <td>Unknown</td>\n",
       "      <td>36</td>\n",
       "      <td>TECHNICAL  REPORT\\nRisk assessment on HIV in G...</td>\n",
       "      <td>0</td>\n",
       "    </tr>\n",
       "    <tr>\n",
       "      <th>4</th>\n",
       "      <td>ECDC</td>\n",
       "      <td>Chlamydia - Annual epidemiological report</td>\n",
       "      <td>Chlamydia, surveillance, monitoring</td>\n",
       "      <td>Chlamydia, surveillance, monitoring</td>\n",
       "      <td>9</td>\n",
       "      <td>\\nSuggested citation: European Centre for Dis...</td>\n",
       "      <td>0</td>\n",
       "    </tr>\n",
       "    <tr>\n",
       "      <th>...</th>\n",
       "      <td>...</td>\n",
       "      <td>...</td>\n",
       "      <td>...</td>\n",
       "      <td>...</td>\n",
       "      <td>...</td>\n",
       "      <td>...</td>\n",
       "      <td>...</td>\n",
       "    </tr>\n",
       "    <tr>\n",
       "      <th>67</th>\n",
       "      <td>ECDC</td>\n",
       "      <td>Dublin Declaration evidence brief: HIV testing...</td>\n",
       "      <td>Dublin Declaration, HIV testing</td>\n",
       "      <td>HIV testing; Dublin Declaration; partnership t...</td>\n",
       "      <td>11</td>\n",
       "      <td>Suggested citation: HIV testing in Europe and ...</td>\n",
       "      <td>1</td>\n",
       "    </tr>\n",
       "    <tr>\n",
       "      <th>68</th>\n",
       "      <td>Fabrice Donguy</td>\n",
       "      <td>AER_template.docx</td>\n",
       "      <td>Unknown</td>\n",
       "      <td>Unknown</td>\n",
       "      <td>8</td>\n",
       "      <td>\\n \\n \\nSuggested citation: European Centre f...</td>\n",
       "      <td>1</td>\n",
       "    </tr>\n",
       "    <tr>\n",
       "      <th>69</th>\n",
       "      <td>Rumila Edward</td>\n",
       "      <td>2024-WCP-0017 Draft.docx</td>\n",
       "      <td>Not specified</td>\n",
       "      <td>Communicable disease threats report</td>\n",
       "      <td>13</td>\n",
       "      <td>\\n \\nEuropean Centre for Disease Prevention a...</td>\n",
       "      <td>1</td>\n",
       "    </tr>\n",
       "    <tr>\n",
       "      <th>70</th>\n",
       "      <td>ECDC</td>\n",
       "      <td>Continuum of HIV care: 2022 progress report</td>\n",
       "      <td>HIV</td>\n",
       "      <td>HIV; continuum of HIV care; continuum of care;...</td>\n",
       "      <td>69</td>\n",
       "      <td>SPECIAL REPORT\\nContinuum of HIV care\\n \\nMoni...</td>\n",
       "      <td>1</td>\n",
       "    </tr>\n",
       "    <tr>\n",
       "      <th>71</th>\n",
       "      <td>ECDC</td>\n",
       "      <td>Continuum of HIV care - Monitoring implementat...</td>\n",
       "      <td>HIV/AIDS, continuum of care</td>\n",
       "      <td>HIV/AIDS, continuum of care</td>\n",
       "      <td>59</td>\n",
       "      <td>SPECIAL REPORT\\nHIV Continuum of care\\nMonitor...</td>\n",
       "      <td>1</td>\n",
       "    </tr>\n",
       "  </tbody>\n",
       "</table>\n",
       "<p>72 rows × 7 columns</p>\n",
       "</div>"
      ],
      "text/plain": [
       "            author                                              title  \\\n",
       "0             ECDC  Effectiveness and cost-effectiveness of antena...   \n",
       "1          Unknown                                            Unknown   \n",
       "2          Unknown                                            Unknown   \n",
       "3          Unknown                                            Unknown   \n",
       "4             ECDC         Chlamydia - Annual epidemiological report    \n",
       "..             ...                                                ...   \n",
       "67            ECDC  Dublin Declaration evidence brief: HIV testing...   \n",
       "68  Fabrice Donguy                                  AER_template.docx   \n",
       "69   Rumila Edward                           2024-WCP-0017 Draft.docx   \n",
       "70            ECDC        Continuum of HIV care: 2022 progress report   \n",
       "71            ECDC  Continuum of HIV care - Monitoring implementat...   \n",
       "\n",
       "                                 subject  \\\n",
       "0                                Unknown   \n",
       "1                                Unknown   \n",
       "2                                Unknown   \n",
       "3                                Unknown   \n",
       "4   Chlamydia, surveillance, monitoring    \n",
       "..                                   ...   \n",
       "67       Dublin Declaration, HIV testing   \n",
       "68                               Unknown   \n",
       "69                         Not specified   \n",
       "70                                   HIV   \n",
       "71           HIV/AIDS, continuum of care   \n",
       "\n",
       "                                             keywords  num_pages  \\\n",
       "0                                             Unknown         37   \n",
       "1                                             Unknown         45   \n",
       "2                                             Unknown         15   \n",
       "3                                             Unknown         36   \n",
       "4                 Chlamydia, surveillance, monitoring          9   \n",
       "..                                                ...        ...   \n",
       "67  HIV testing; Dublin Declaration; partnership t...         11   \n",
       "68                                            Unknown          8   \n",
       "69                Communicable disease threats report         13   \n",
       "70  HIV; continuum of HIV care; continuum of care;...         69   \n",
       "71                        HIV/AIDS, continuum of care         59   \n",
       "\n",
       "                                                 text  is_relevant  \n",
       "0   TECHNICAL  REPORT\\nEffectiveness and cost-  \\n...            0  \n",
       "1   SPECIAL REPORT\\nImplementing the  \\nDublin Dec...            0  \n",
       "2   SPECIAL REPORT\\nThematic report:  \\nSex worker...            0  \n",
       "3   TECHNICAL  REPORT\\nRisk assessment on HIV in G...            0  \n",
       "4    \\nSuggested citation: European Centre for Dis...            0  \n",
       "..                                                ...          ...  \n",
       "67  Suggested citation: HIV testing in Europe and ...            1  \n",
       "68   \\n \\n \\nSuggested citation: European Centre f...            1  \n",
       "69   \\n \\nEuropean Centre for Disease Prevention a...            1  \n",
       "70  SPECIAL REPORT\\nContinuum of HIV care\\n \\nMoni...            1  \n",
       "71  SPECIAL REPORT\\nHIV Continuum of care\\nMonitor...            1  \n",
       "\n",
       "[72 rows x 7 columns]"
      ]
     },
     "execution_count": 36,
     "metadata": {},
     "output_type": "execute_result"
    }
   ],
   "source": [
    "harvest_nlp"
   ]
  },
  {
   "cell_type": "markdown",
   "metadata": {},
   "source": [
    "## Preprocessing/Cleaning"
   ]
  },
  {
   "cell_type": "code",
   "execution_count": 37,
   "metadata": {},
   "outputs": [],
   "source": [
    "STOPWORDS = stopwords.words('english')\n",
    "from spacy.lang.en import STOP_WORDS\n",
    "lemmatizer = WordNetLemmatizer()\n",
    "\n",
    "def clean_text(text):\n",
    "\n",
    "    text = text.lower()\n",
    "\n",
    "    patterns = {\n",
    "        ### UNDERSTAND CONTEXT FIRST BEFORE CHANGING, HELPS TO MAKE MORE INFORMED DECISIONS\n",
    "        #remove \\n and \\r and \\t\n",
    "        r'\\n|\\r|\\t': ' ',\n",
    "\n",
    "        #replaces 4-digit numbers starting with 1 or 2 with \"year\"\n",
    "        r'\\b[12]\\d{3}\\b':'year',\n",
    "        \n",
    "        }\n",
    "    for pattern, replacement in patterns.items():\n",
    "        text = re.sub(pattern, replacement, text)\n",
    "\n",
    "    # remove punctuations\n",
    "    puncs = '''!()-[]{};:'\"\\,<>./?@#$%^&*_~'''\n",
    "    for p in puncs:\n",
    "        text = text.replace(p,'') \n",
    "    \n",
    "    # remove stopwords and make sure word length is greater than 2\n",
    "    text = [word.lower() for word in text.split() if word.lower() not in STOP_WORDS and len(word)>1]\n",
    "\n",
    "    text = [lemmatizer.lemmatize(word) for word in text]\n",
    "\n",
    "    text = \" \".join(text)\n",
    "\n",
    "    return text\n",
    "\n",
    "harvest_nlp['text_modified'] = harvest_nlp['text'].apply(lambda x: clean_text(x))"
   ]
  },
  {
   "cell_type": "code",
   "execution_count": 38,
   "metadata": {},
   "outputs": [],
   "source": [
    "from collections import Counter\n",
    "\n",
    "all_words = ' '.join(harvest_nlp['text_modified']).split()\n",
    "word_counts = Counter(all_words)\n",
    "\n",
    "def remove_low_high_occuring_words(text,low,high):\n",
    "\twords = text.split()\n",
    "\tnew_text = \" \".join(word for word in words if word_counts[word]>low and word_counts[word]<high)\n",
    "\treturn new_text\n",
    "\n",
    "#play around with this\n",
    "harvest_nlp['text_modified'] = harvest_nlp['text_modified'].apply(lambda text: remove_low_high_occuring_words(text,10,1000))"
   ]
  },
  {
   "cell_type": "code",
   "execution_count": 39,
   "metadata": {},
   "outputs": [
    {
     "name": "stdout",
     "output_type": "stream",
     "text": [
      "0\n"
     ]
    }
   ],
   "source": [
    "all_words = ' '.join(harvest_nlp['text_modified']).split()\n",
    "word_counts = Counter(all_words)\n",
    "print(sum(1 for value in word_counts.values() if value == 3))"
   ]
  },
  {
   "cell_type": "code",
   "execution_count": 40,
   "metadata": {},
   "outputs": [
    {
     "data": {
      "text/html": [
       "<div>\n",
       "<style scoped>\n",
       "    .dataframe tbody tr th:only-of-type {\n",
       "        vertical-align: middle;\n",
       "    }\n",
       "\n",
       "    .dataframe tbody tr th {\n",
       "        vertical-align: top;\n",
       "    }\n",
       "\n",
       "    .dataframe thead th {\n",
       "        text-align: right;\n",
       "    }\n",
       "</style>\n",
       "<table border=\"1\" class=\"dataframe\">\n",
       "  <thead>\n",
       "    <tr style=\"text-align: right;\">\n",
       "      <th></th>\n",
       "      <th>author</th>\n",
       "      <th>title</th>\n",
       "      <th>subject</th>\n",
       "      <th>keywords</th>\n",
       "      <th>num_pages</th>\n",
       "      <th>text</th>\n",
       "      <th>is_relevant</th>\n",
       "      <th>text_modified</th>\n",
       "    </tr>\n",
       "  </thead>\n",
       "  <tbody>\n",
       "    <tr>\n",
       "      <th>0</th>\n",
       "      <td>ECDC</td>\n",
       "      <td>Effectiveness and cost-effectiveness of antena...</td>\n",
       "      <td>Unknown</td>\n",
       "      <td>Unknown</td>\n",
       "      <td>37</td>\n",
       "      <td>TECHNICAL  REPORT\\nEffectiveness and cost-  \\n...</td>\n",
       "      <td>0</td>\n",
       "      <td>technical effectiveness cost effectiveness hep...</td>\n",
       "    </tr>\n",
       "    <tr>\n",
       "      <th>1</th>\n",
       "      <td>Unknown</td>\n",
       "      <td>Unknown</td>\n",
       "      <td>Unknown</td>\n",
       "      <td>Unknown</td>\n",
       "      <td>45</td>\n",
       "      <td>SPECIAL REPORT\\nImplementing the  \\nDublin Dec...</td>\n",
       "      <td>0</td>\n",
       "      <td>special implementing partnership fight summary...</td>\n",
       "    </tr>\n",
       "    <tr>\n",
       "      <th>2</th>\n",
       "      <td>Unknown</td>\n",
       "      <td>Unknown</td>\n",
       "      <td>Unknown</td>\n",
       "      <td>Unknown</td>\n",
       "      <td>15</td>\n",
       "      <td>SPECIAL REPORT\\nThematic report:  \\nSex worker...</td>\n",
       "      <td>0</td>\n",
       "      <td>special thematic monitoring implementation par...</td>\n",
       "    </tr>\n",
       "    <tr>\n",
       "      <th>3</th>\n",
       "      <td>Unknown</td>\n",
       "      <td>Unknown</td>\n",
       "      <td>Unknown</td>\n",
       "      <td>Unknown</td>\n",
       "      <td>36</td>\n",
       "      <td>TECHNICAL  REPORT\\nRisk assessment on HIV in G...</td>\n",
       "      <td>0</td>\n",
       "      <td>technical assessment greece wwwecdceuropaeu te...</td>\n",
       "    </tr>\n",
       "    <tr>\n",
       "      <th>4</th>\n",
       "      <td>ECDC</td>\n",
       "      <td>Chlamydia - Annual epidemiological report</td>\n",
       "      <td>Chlamydia, surveillance, monitoring</td>\n",
       "      <td>Chlamydia, surveillance, monitoring</td>\n",
       "      <td>9</td>\n",
       "      <td>\\nSuggested citation: European Centre for Dis...</td>\n",
       "      <td>0</td>\n",
       "      <td>suggested citation control chlamydia annual st...</td>\n",
       "    </tr>\n",
       "    <tr>\n",
       "      <th>...</th>\n",
       "      <td>...</td>\n",
       "      <td>...</td>\n",
       "      <td>...</td>\n",
       "      <td>...</td>\n",
       "      <td>...</td>\n",
       "      <td>...</td>\n",
       "      <td>...</td>\n",
       "      <td>...</td>\n",
       "    </tr>\n",
       "    <tr>\n",
       "      <th>67</th>\n",
       "      <td>ECDC</td>\n",
       "      <td>Dublin Declaration evidence brief: HIV testing...</td>\n",
       "      <td>Dublin Declaration, HIV testing</td>\n",
       "      <td>HIV testing; Dublin Declaration; partnership t...</td>\n",
       "      <td>11</td>\n",
       "      <td>Suggested citation: HIV testing in Europe and ...</td>\n",
       "      <td>1</td>\n",
       "      <td>suggested citation monitoring implementation f...</td>\n",
       "    </tr>\n",
       "    <tr>\n",
       "      <th>68</th>\n",
       "      <td>Fabrice Donguy</td>\n",
       "      <td>AER_template.docx</td>\n",
       "      <td>Unknown</td>\n",
       "      <td>Unknown</td>\n",
       "      <td>8</td>\n",
       "      <td>\\n \\n \\nSuggested citation: European Centre f...</td>\n",
       "      <td>1</td>\n",
       "      <td>suggested citation control chlamydia annual ep...</td>\n",
       "    </tr>\n",
       "    <tr>\n",
       "      <th>69</th>\n",
       "      <td>Rumila Edward</td>\n",
       "      <td>2024-WCP-0017 Draft.docx</td>\n",
       "      <td>Not specified</td>\n",
       "      <td>Communicable disease threats report</td>\n",
       "      <td>13</td>\n",
       "      <td>\\n \\nEuropean Centre for Disease Prevention a...</td>\n",
       "      <td>1</td>\n",
       "      <td>control solna sweden wwwecdceuropaeu normal we...</td>\n",
       "    </tr>\n",
       "    <tr>\n",
       "      <th>70</th>\n",
       "      <td>ECDC</td>\n",
       "      <td>Continuum of HIV care: 2022 progress report</td>\n",
       "      <td>HIV</td>\n",
       "      <td>HIV; continuum of HIV care; continuum of care;...</td>\n",
       "      <td>69</td>\n",
       "      <td>SPECIAL REPORT\\nContinuum of HIV care\\n \\nMoni...</td>\n",
       "      <td>1</td>\n",
       "      <td>special continuum monitoring implementation pa...</td>\n",
       "    </tr>\n",
       "    <tr>\n",
       "      <th>71</th>\n",
       "      <td>ECDC</td>\n",
       "      <td>Continuum of HIV care - Monitoring implementat...</td>\n",
       "      <td>HIV/AIDS, continuum of care</td>\n",
       "      <td>HIV/AIDS, continuum of care</td>\n",
       "      <td>59</td>\n",
       "      <td>SPECIAL REPORT\\nHIV Continuum of care\\nMonitor...</td>\n",
       "      <td>1</td>\n",
       "      <td>special continuum monitoring implementation pa...</td>\n",
       "    </tr>\n",
       "  </tbody>\n",
       "</table>\n",
       "<p>72 rows × 8 columns</p>\n",
       "</div>"
      ],
      "text/plain": [
       "            author                                              title  \\\n",
       "0             ECDC  Effectiveness and cost-effectiveness of antena...   \n",
       "1          Unknown                                            Unknown   \n",
       "2          Unknown                                            Unknown   \n",
       "3          Unknown                                            Unknown   \n",
       "4             ECDC         Chlamydia - Annual epidemiological report    \n",
       "..             ...                                                ...   \n",
       "67            ECDC  Dublin Declaration evidence brief: HIV testing...   \n",
       "68  Fabrice Donguy                                  AER_template.docx   \n",
       "69   Rumila Edward                           2024-WCP-0017 Draft.docx   \n",
       "70            ECDC        Continuum of HIV care: 2022 progress report   \n",
       "71            ECDC  Continuum of HIV care - Monitoring implementat...   \n",
       "\n",
       "                                 subject  \\\n",
       "0                                Unknown   \n",
       "1                                Unknown   \n",
       "2                                Unknown   \n",
       "3                                Unknown   \n",
       "4   Chlamydia, surveillance, monitoring    \n",
       "..                                   ...   \n",
       "67       Dublin Declaration, HIV testing   \n",
       "68                               Unknown   \n",
       "69                         Not specified   \n",
       "70                                   HIV   \n",
       "71           HIV/AIDS, continuum of care   \n",
       "\n",
       "                                             keywords  num_pages  \\\n",
       "0                                             Unknown         37   \n",
       "1                                             Unknown         45   \n",
       "2                                             Unknown         15   \n",
       "3                                             Unknown         36   \n",
       "4                 Chlamydia, surveillance, monitoring          9   \n",
       "..                                                ...        ...   \n",
       "67  HIV testing; Dublin Declaration; partnership t...         11   \n",
       "68                                            Unknown          8   \n",
       "69                Communicable disease threats report         13   \n",
       "70  HIV; continuum of HIV care; continuum of care;...         69   \n",
       "71                        HIV/AIDS, continuum of care         59   \n",
       "\n",
       "                                                 text  is_relevant  \\\n",
       "0   TECHNICAL  REPORT\\nEffectiveness and cost-  \\n...            0   \n",
       "1   SPECIAL REPORT\\nImplementing the  \\nDublin Dec...            0   \n",
       "2   SPECIAL REPORT\\nThematic report:  \\nSex worker...            0   \n",
       "3   TECHNICAL  REPORT\\nRisk assessment on HIV in G...            0   \n",
       "4    \\nSuggested citation: European Centre for Dis...            0   \n",
       "..                                                ...          ...   \n",
       "67  Suggested citation: HIV testing in Europe and ...            1   \n",
       "68   \\n \\n \\nSuggested citation: European Centre f...            1   \n",
       "69   \\n \\nEuropean Centre for Disease Prevention a...            1   \n",
       "70  SPECIAL REPORT\\nContinuum of HIV care\\n \\nMoni...            1   \n",
       "71  SPECIAL REPORT\\nHIV Continuum of care\\nMonitor...            1   \n",
       "\n",
       "                                        text_modified  \n",
       "0   technical effectiveness cost effectiveness hep...  \n",
       "1   special implementing partnership fight summary...  \n",
       "2   special thematic monitoring implementation par...  \n",
       "3   technical assessment greece wwwecdceuropaeu te...  \n",
       "4   suggested citation control chlamydia annual st...  \n",
       "..                                                ...  \n",
       "67  suggested citation monitoring implementation f...  \n",
       "68  suggested citation control chlamydia annual ep...  \n",
       "69  control solna sweden wwwecdceuropaeu normal we...  \n",
       "70  special continuum monitoring implementation pa...  \n",
       "71  special continuum monitoring implementation pa...  \n",
       "\n",
       "[72 rows x 8 columns]"
      ]
     },
     "execution_count": 40,
     "metadata": {},
     "output_type": "execute_result"
    }
   ],
   "source": [
    "harvest_nlp"
   ]
  },
  {
   "cell_type": "markdown",
   "metadata": {},
   "source": [
    "## Modeling"
   ]
  },
  {
   "cell_type": "code",
   "execution_count": 41,
   "metadata": {},
   "outputs": [],
   "source": [
    "from sklearn.model_selection import train_test_split\n",
    "from sklearn.feature_extraction.text import TfidfVectorizer\n",
    "\n",
    "\n",
    "X_train, X_test , y_train, y_test = train_test_split(harvest_nlp['text_modified'].values,harvest_nlp['is_relevant'].values,\n",
    "\t\t\t\t\t\t\t\t\t\t\t\t\t test_size=0.25,\n",
    "\t\t\t\t\t\t\t\t\t\t\t\t\t random_state=42,\n",
    "\t\t\t\t\t\t\t\t\t\t\t\t\t stratify=harvest_nlp['is_relevant'].values)"
   ]
  },
  {
   "cell_type": "code",
   "execution_count": 42,
   "metadata": {},
   "outputs": [],
   "source": [
    "tfidf_vectorizer = TfidfVectorizer(max_features=3000) #play around with this\n",
    "tfidf_train_vectors = tfidf_vectorizer.fit_transform(X_train)\n",
    "tfidf_test_vectors = tfidf_vectorizer.transform(X_test)"
   ]
  },
  {
   "cell_type": "code",
   "execution_count": 43,
   "metadata": {},
   "outputs": [
    {
     "data": {
      "text/plain": [
       "(54, 3000)"
      ]
     },
     "execution_count": 43,
     "metadata": {},
     "output_type": "execute_result"
    }
   ],
   "source": [
    "tfidf_train_vectors.shape"
   ]
  },
  {
   "cell_type": "code",
   "execution_count": 51,
   "metadata": {},
   "outputs": [
    {
     "name": "stdout",
     "output_type": "stream",
     "text": [
      "{'max_features': None, 'n_estimators': 1, 'n_jobs': -1}\n"
     ]
    }
   ],
   "source": [
    "from sklearn.model_selection import GridSearchCV\n",
    "\n",
    "# play around with this too\n",
    "param_grid = {\n",
    "\t'max_features':[None,\"sqrt\",0.2],\n",
    "\t'n_jobs': [-1],\n",
    "\t\n",
    "}\n",
    "rf=RandomForestClassifier()\n",
    "grid_search = GridSearchCV(rf, param_grid=param_grid, scoring='f1')  \n",
    "grid_search.fit(tfidf_train_vectors,y_train)   \n",
    "print(grid_search.best_params_)"
   ]
  },
  {
   "cell_type": "code",
   "execution_count": 52,
   "metadata": {},
   "outputs": [
    {
     "data": {
      "text/plain": [
       "array([0, 0, 0, 0, 0, 0, 0, 0, 0, 0, 0, 0, 0, 0, 0, 0, 0, 0])"
      ]
     },
     "execution_count": 52,
     "metadata": {},
     "output_type": "execute_result"
    }
   ],
   "source": [
    "y_pred = grid_search.predict(tfidf_test_vectors)\n",
    "y_pred"
   ]
  },
  {
   "cell_type": "code",
   "execution_count": 46,
   "metadata": {},
   "outputs": [
    {
     "name": "stdout",
     "output_type": "stream",
     "text": [
      "              precision    recall  f1-score   support\n",
      "\n",
      "           0       0.89      1.00      0.94        16\n",
      "           1       0.00      0.00      0.00         2\n",
      "\n",
      "    accuracy                           0.89        18\n",
      "   macro avg       0.44      0.50      0.47        18\n",
      "weighted avg       0.79      0.89      0.84        18\n",
      "\n"
     ]
    },
    {
     "name": "stderr",
     "output_type": "stream",
     "text": [
      "/Users/kevingui/anaconda3/envs/work/lib/python3.11/site-packages/sklearn/metrics/_classification.py:1497: UndefinedMetricWarning: Precision is ill-defined and being set to 0.0 in labels with no predicted samples. Use `zero_division` parameter to control this behavior.\n",
      "  _warn_prf(average, modifier, f\"{metric.capitalize()} is\", len(result))\n",
      "/Users/kevingui/anaconda3/envs/work/lib/python3.11/site-packages/sklearn/metrics/_classification.py:1497: UndefinedMetricWarning: Precision is ill-defined and being set to 0.0 in labels with no predicted samples. Use `zero_division` parameter to control this behavior.\n",
      "  _warn_prf(average, modifier, f\"{metric.capitalize()} is\", len(result))\n",
      "/Users/kevingui/anaconda3/envs/work/lib/python3.11/site-packages/sklearn/metrics/_classification.py:1497: UndefinedMetricWarning: Precision is ill-defined and being set to 0.0 in labels with no predicted samples. Use `zero_division` parameter to control this behavior.\n",
      "  _warn_prf(average, modifier, f\"{metric.capitalize()} is\", len(result))\n"
     ]
    }
   ],
   "source": [
    "print(classification_report(y_test,y_pred))"
   ]
  }
 ],
 "metadata": {
  "kernelspec": {
   "display_name": "work",
   "language": "python",
   "name": "python3"
  },
  "language_info": {
   "codemirror_mode": {
    "name": "ipython",
    "version": 3
   },
   "file_extension": ".py",
   "mimetype": "text/x-python",
   "name": "python",
   "nbconvert_exporter": "python",
   "pygments_lexer": "ipython3",
   "version": "3.11.7"
  }
 },
 "nbformat": 4,
 "nbformat_minor": 2
}
