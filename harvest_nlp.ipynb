{
 "cells": [
  {
   "cell_type": "code",
   "execution_count": 2,
   "metadata": {},
   "outputs": [],
   "source": [
    "from PyPDF2 import PdfReader\n",
    "import os\n",
    "import pandas as pd\n",
    "import glob"
   ]
  },
  {
   "cell_type": "code",
   "execution_count": 13,
   "metadata": {},
   "outputs": [
    {
     "data": {
      "text/plain": [
       "5"
      ]
     },
     "execution_count": 13,
     "metadata": {},
     "output_type": "execute_result"
    }
   ],
   "source": [
    "reader = PdfReader('test_data/not_relevant/PDF_art20329.pdf')\n",
    "page = reader.pages[1]\n",
    "text = page.extract_text()\n",
    "len(reader.pages)"
   ]
  },
  {
   "cell_type": "code",
   "execution_count": 11,
   "metadata": {},
   "outputs": [],
   "source": [
    "def get_pdfs_in_directory(directory_path):\n",
    "    # Use glob to get all PDF files in the directory\n",
    "    pdf_files = glob.glob(os.path.join(directory_path, '*.pdf'))\n",
    "    return pdf_files\n",
    "pdfs_not_relevant = get_pdfs_in_directory('test_data/not_relevant')\n",
    "pdf_relavent = get_pdfs_in_directory('test_data/relevant')\n",
    "\n",
    "all_info = []\n",
    "#want num page of doc, title of the paper\n",
    "for pdf_path in pdfs_not_relevant:\n",
    "    reader = PdfReader(pdf_path)\n",
    "    doc_text = ''\n",
    "    num_pages = len(reader.pages)\n",
    "    for i in range(num_pages):\n",
    "        page_text = reader.pages[i].extract_text() + \" \"\n",
    "        doc_text += page_text\n",
    "    all_info.append([num_pages,doc_text,0])\n",
    "\n",
    "for pdf_path in pdf_relavent:\n",
    "    reader = PdfReader(pdf_path)\n",
    "    doc_text = ''\n",
    "    num_pages = len(reader.pages)\n",
    "    for i in range(num_pages):\n",
    "        page_text = reader.pages[i].extract_text() + \" \"\n",
    "        doc_text += page_text\n",
    "    all_info.append([num_pages,doc_text,1])\n",
    "\n"
   ]
  },
  {
   "cell_type": "code",
   "execution_count": 16,
   "metadata": {},
   "outputs": [
    {
     "data": {
      "text/html": [
       "<div>\n",
       "<style scoped>\n",
       "    .dataframe tbody tr th:only-of-type {\n",
       "        vertical-align: middle;\n",
       "    }\n",
       "\n",
       "    .dataframe tbody tr th {\n",
       "        vertical-align: top;\n",
       "    }\n",
       "\n",
       "    .dataframe thead th {\n",
       "        text-align: right;\n",
       "    }\n",
       "</style>\n",
       "<table border=\"1\" class=\"dataframe\">\n",
       "  <thead>\n",
       "    <tr style=\"text-align: right;\">\n",
       "      <th></th>\n",
       "      <th>num_pages</th>\n",
       "      <th>text</th>\n",
       "      <th>is_relevant</th>\n",
       "    </tr>\n",
       "  </thead>\n",
       "  <tbody>\n",
       "    <tr>\n",
       "      <th>0</th>\n",
       "      <td>37</td>\n",
       "      <td>TECHNICAL  REPORT\\nEffectiveness and cost-  \\n...</td>\n",
       "      <td>0</td>\n",
       "    </tr>\n",
       "    <tr>\n",
       "      <th>1</th>\n",
       "      <td>45</td>\n",
       "      <td>SPECIAL REPORT\\nImplementing the  \\nDublin Dec...</td>\n",
       "      <td>0</td>\n",
       "    </tr>\n",
       "    <tr>\n",
       "      <th>2</th>\n",
       "      <td>15</td>\n",
       "      <td>SPECIAL REPORT\\nThematic report:  \\nSex worker...</td>\n",
       "      <td>0</td>\n",
       "    </tr>\n",
       "    <tr>\n",
       "      <th>3</th>\n",
       "      <td>36</td>\n",
       "      <td>TECHNICAL  REPORT\\nRisk assessment on HIV in G...</td>\n",
       "      <td>0</td>\n",
       "    </tr>\n",
       "    <tr>\n",
       "      <th>4</th>\n",
       "      <td>9</td>\n",
       "      <td>\\nSuggested citation: European Centre for Dis...</td>\n",
       "      <td>0</td>\n",
       "    </tr>\n",
       "    <tr>\n",
       "      <th>...</th>\n",
       "      <td>...</td>\n",
       "      <td>...</td>\n",
       "      <td>...</td>\n",
       "    </tr>\n",
       "    <tr>\n",
       "      <th>67</th>\n",
       "      <td>11</td>\n",
       "      <td>Suggested citation: HIV testing in Europe and ...</td>\n",
       "      <td>1</td>\n",
       "    </tr>\n",
       "    <tr>\n",
       "      <th>68</th>\n",
       "      <td>8</td>\n",
       "      <td>\\n \\n \\nSuggested citation: European Centre f...</td>\n",
       "      <td>1</td>\n",
       "    </tr>\n",
       "    <tr>\n",
       "      <th>69</th>\n",
       "      <td>13</td>\n",
       "      <td>\\n \\nEuropean Centre for Disease Prevention a...</td>\n",
       "      <td>1</td>\n",
       "    </tr>\n",
       "    <tr>\n",
       "      <th>70</th>\n",
       "      <td>69</td>\n",
       "      <td>SPECIAL REPORT\\nContinuum of HIV care\\n \\nMoni...</td>\n",
       "      <td>1</td>\n",
       "    </tr>\n",
       "    <tr>\n",
       "      <th>71</th>\n",
       "      <td>59</td>\n",
       "      <td>SPECIAL REPORT\\nHIV Continuum of care\\nMonitor...</td>\n",
       "      <td>1</td>\n",
       "    </tr>\n",
       "  </tbody>\n",
       "</table>\n",
       "<p>72 rows × 3 columns</p>\n",
       "</div>"
      ],
      "text/plain": [
       "    num_pages                                               text  is_relevant\n",
       "0          37  TECHNICAL  REPORT\\nEffectiveness and cost-  \\n...            0\n",
       "1          45  SPECIAL REPORT\\nImplementing the  \\nDublin Dec...            0\n",
       "2          15  SPECIAL REPORT\\nThematic report:  \\nSex worker...            0\n",
       "3          36  TECHNICAL  REPORT\\nRisk assessment on HIV in G...            0\n",
       "4           9   \\nSuggested citation: European Centre for Dis...            0\n",
       "..        ...                                                ...          ...\n",
       "67         11  Suggested citation: HIV testing in Europe and ...            1\n",
       "68          8   \\n \\n \\nSuggested citation: European Centre f...            1\n",
       "69         13   \\n \\nEuropean Centre for Disease Prevention a...            1\n",
       "70         69  SPECIAL REPORT\\nContinuum of HIV care\\n \\nMoni...            1\n",
       "71         59  SPECIAL REPORT\\nHIV Continuum of care\\nMonitor...            1\n",
       "\n",
       "[72 rows x 3 columns]"
      ]
     },
     "execution_count": 16,
     "metadata": {},
     "output_type": "execute_result"
    }
   ],
   "source": [
    "harvest_nlp = pd.DataFrame(all_info,columns=['num_pages','text','is_relevant'])\n",
    "harvest_nlp"
   ]
  },
  {
   "cell_type": "code",
   "execution_count": null,
   "metadata": {},
   "outputs": [],
   "source": [
    "# get_doc_info.py\n",
    "from PyPDF2 import PdfFileReader\n",
    "def get_info(path):\n",
    "    with open(path, 'rb') as f:\n",
    "    pdf = PdfFileReader(f)\n",
    "    info = pdf.getDocumentInfo()\n",
    "    number_of_pages = pdf.getNumPages()\n",
    "    print(info)\n",
    "    author = info.author\n",
    "    creator = info.creator\n",
    "    producer = info.producer\n",
    "    subject = info.subject\n",
    "    title = info.title"
   ]
  }
 ],
 "metadata": {
  "kernelspec": {
   "display_name": "work",
   "language": "python",
   "name": "python3"
  },
  "language_info": {
   "codemirror_mode": {
    "name": "ipython",
    "version": 3
   },
   "file_extension": ".py",
   "mimetype": "text/x-python",
   "name": "python",
   "nbconvert_exporter": "python",
   "pygments_lexer": "ipython3",
   "version": "3.11.7"
  }
 },
 "nbformat": 4,
 "nbformat_minor": 2
}
