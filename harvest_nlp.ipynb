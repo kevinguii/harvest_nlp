{
 "cells": [
  {
   "cell_type": "code",
   "execution_count": 31,
   "metadata": {},
   "outputs": [],
   "source": [
    "from PyPDF2 import PdfReader\n",
    "import os\n",
    "import pandas as pd\n",
    "import glob"
   ]
  },
  {
   "cell_type": "code",
   "execution_count": 32,
   "metadata": {},
   "outputs": [
    {
     "data": {
      "text/plain": [
       "5"
      ]
     },
     "execution_count": 32,
     "metadata": {},
     "output_type": "execute_result"
    }
   ],
   "source": [
    "reader = PdfReader('test_data/not_relevant/PDF_art20329.pdf')\n",
    "page = reader.pages[1]\n",
    "text = page.extract_text()\n",
    "harvest_nlp = pd.DataFrame()\n",
    "len(reader.pages)"
   ]
  },
  {
   "cell_type": "code",
   "execution_count": 25,
   "metadata": {},
   "outputs": [
    {
     "data": {
      "text/plain": [
       "['test_data/not_relevant/PDF_antenatal-screening-for-HIV-hepB-syph-rubella-tech-report-lit-review-2017.pdf',\n",
       " 'test_data/not_relevant/PDF_100720_implementing_dublic_declaration_hiv_aids_2010_progress_report.pdf']"
      ]
     },
     "execution_count": 25,
     "metadata": {},
     "output_type": "execute_result"
    }
   ],
   "source": [
    "def get_pdfs_in_directory(directory_path):\n",
    "    # Use glob to get all PDF files in the directory\n",
    "    pdf_files = glob.glob(os.path.join(directory_path, '*.pdf'))\n",
    "    return pdf_files\n",
    "pdfs_not_relevant = get_pdfs_in_directory('test_data/not_relevant')\n",
    "pdf_test = pdfs_not_relevant[:2]\n",
    "pdf_test\n",
    "\n",
    "#want num page of doc, title of the paper\n",
    "for pdf_path in pdf_test:\n",
    "    reader = PdfReader(pdf_path)\n",
    "    all_info = []\n",
    "    doc_text = ''\n",
    "    num_pages = len(reader.pages)\n",
    "    for i in range(num_pages):\n",
    "        page_text = reader.pages[i].extract_text() + \" \"\n",
    "        doc_text += page_text\n",
    "    all_info.append(num_pages,doc_text)\n",
    "\n"
   ]
  },
  {
   "cell_type": "code",
   "execution_count": null,
   "metadata": {},
   "outputs": [],
   "source": [
    "# get_doc_info.py\n",
    "from PyPDF2 import PdfFileReader\n",
    "def get_info(path):\n",
    "    with open(path, 'rb') as f:\n",
    "    pdf = PdfFileReader(f)\n",
    "    info = pdf.getDocumentInfo()\n",
    "    number_of_pages = pdf.getNumPages()\n",
    "    print(info)\n",
    "    author = info.author\n",
    "    creator = info.creator\n",
    "    producer = info.producer\n",
    "    subject = info.subject\n",
    "    title = info.title"
   ]
  },
  {
   "cell_type": "code",
   "execution_count": 21,
   "metadata": {},
   "outputs": [
    {
     "ename": "FileNotFoundError",
     "evalue": "[Errno 2] No such file or directory: 'test_data/relavent'",
     "output_type": "error",
     "traceback": [
      "\u001b[0;31m---------------------------------------------------------------------------\u001b[0m",
      "\u001b[0;31mFileNotFoundError\u001b[0m                         Traceback (most recent call last)",
      "Cell \u001b[0;32mIn[21], line 2\u001b[0m\n\u001b[1;32m      1\u001b[0m mypath \u001b[38;5;241m=\u001b[39m \u001b[38;5;124m'\u001b[39m\u001b[38;5;124mtest_data/relavent\u001b[39m\u001b[38;5;124m'\u001b[39m\n\u001b[0;32m----> 2\u001b[0m onlyfiles \u001b[38;5;241m=\u001b[39m [f \u001b[38;5;28;01mfor\u001b[39;00m f \u001b[38;5;129;01min\u001b[39;00m \u001b[43mos\u001b[49m\u001b[38;5;241;43m.\u001b[39;49m\u001b[43mlistdir\u001b[49m\u001b[43m(\u001b[49m\u001b[43mmypath\u001b[49m\u001b[43m)\u001b[49m \u001b[38;5;28;01mif\u001b[39;00m os\u001b[38;5;241m.\u001b[39mpath\u001b[38;5;241m.\u001b[39misfile(os\u001b[38;5;241m.\u001b[39mpath\u001b[38;5;241m.\u001b[39mjoin(mypath, f))]\n",
      "\u001b[0;31mFileNotFoundError\u001b[0m: [Errno 2] No such file or directory: 'test_data/relavent'"
     ]
    }
   ],
   "source": [
    "mypath = 'test_data/relavent'\n",
    "onlyfiles = [f for f in os.listdir(mypath) if os.path.isfile(os.path.join(mypath, f))]\n"
   ]
  }
 ],
 "metadata": {
  "kernelspec": {
   "display_name": "work",
   "language": "python",
   "name": "python3"
  },
  "language_info": {
   "codemirror_mode": {
    "name": "ipython",
    "version": 3
   },
   "file_extension": ".py",
   "mimetype": "text/x-python",
   "name": "python",
   "nbconvert_exporter": "python",
   "pygments_lexer": "ipython3",
   "version": "3.11.7"
  }
 },
 "nbformat": 4,
 "nbformat_minor": 2
}
